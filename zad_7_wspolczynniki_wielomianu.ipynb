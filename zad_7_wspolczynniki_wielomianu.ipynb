{
 "cells": [
  {
   "cell_type": "code",
   "execution_count": 52,
   "metadata": {},
   "outputs": [
    {
     "data": {
      "image/png": "[encoded data removed]",
      "text/plain": [
       "<Figure size 432x288 with 1 Axes>"
      ]
     },
     "metadata": {
      "needs_background": "light"
     },
     "output_type": "display_data"
    }
   ],
   "source": [
    "import numpy as np\n",
    "import matplotlib.pyplot as plt\n",
    "from scipy.linalg import solve\n",
    "\n",
    "vector_x = np.array([0.062500, 0.187500, 0.312500, 0.437500, 0.562500, 0.687500, 0.812500, 0.937500])\n",
    "vector_y = np.array([0.687959, 0.073443, -0.517558, -1.077264, -1.600455, -2.080815, -2.507266, -2.860307])\n",
    "plt.scatter(vector_x, vector_y, alpha=\"0.7\", c=\"red\", s=10)\n",
    "# mamy n=8 punktów - wielomian będzie stopnia n-1\n",
    "# Do obliczenia wartości współczynników wielomianu interpolacyjnego użyje\n",
    "# macierzy Vandermonde'a. Żadne z punktów x1, x2,.... się nie pokrywają więc wyznacznik\n",
    "# tej macierzy będzie różny od 0\n",
    "\n",
    "vandermonde_matrix = np.vander(vector_x)\n",
    "# print(vandermonde_matrix)\n",
    "\n",
    "coeff_matrix = solve(vandermonde_matrix, vector_y)\n",
    "# print(\"\\n\\n\", coeff_matrix)\n",
    "\n",
    "\n",
    "def polynomial(x):\n",
    "    polynomial = coeff_matrix[0]*(x**7) + coeff_matrix[1]*(x**6) + coeff_matrix[2]*(x**5) + coeff_matrix[3]*(x**4) + coeff_matrix[4]*(x**3) + coeff_matrix[5]*(x**2) + coeff_matrix[6]*(x**1) + coeff_matrix[7]*(x**0)   \n",
    "    return polynomial\n",
    "\n",
    "# polynomial_values = list()\n",
    "# for x in range (len(vector_x)):\n",
    "#     polynomial_values.append(polynomial(vector_x[x]))\n",
    "# plt.plot(vector_x, polynomial_values, c=\"green\")\n",
    "\n",
    "\n",
    "# próbny wykres\n",
    "samples = np.linspace(-1,1,15)\n",
    "\n",
    "try_polynomial_values = list()\n",
    "for i in range(len(samples)):\n",
    "    try_polynomial_values.append(polynomial(samples[i]))\n",
    "                                 \n",
    "plt.plot(samples, try_polynomial_values, c=\"green\")\n",
    "\n",
    "\n",
    "\n",
    "\n",
    "\n",
    "\n",
    "plt.xlim(-1,1)\n",
    "plt.show()\n",
    "\n",
    "\n",
    "# przed"
   ]
  },
  {
   "cell_type": "code",
   "execution_count": 43,
   "metadata": {},
   "outputs": [
    {
     "data": {
      "text/plain": [
       "array([-1.        , -0.85714286, -0.71428571, -0.57142857, -0.42857143,\n",
       "       -0.28571429, -0.14285714,  0.        ,  0.14285714,  0.28571429,\n",
       "        0.42857143,  0.57142857,  0.71428571,  0.85714286,  1.        ])"
      ]
     },
     "execution_count": 43,
     "metadata": {},
     "output_type": "execute_result"
    }
   ],
   "source": [
    "samples = np.linspace(-1,1,15)\n",
    "samples"
   ]
  },
  {
   "cell_type": "code",
   "execution_count": null,
   "metadata": {},
   "outputs": [],
   "source": []
  }
 ],
 "metadata": {
  "kernelspec": {
   "display_name": "Python 3",
   "language": "python",
   "name": "python3"
  },
  "language_info": {
   "codemirror_mode": {
    "name": "ipython",
    "version": 3
   },
   "file_extension": ".py",
   "mimetype": "text/x-python",
   "name": "python",
   "nbconvert_exporter": "python",
   "pygments_lexer": "ipython3",
   "version": "3.7.1"
  }
 },
 "nbformat": 4,
 "nbformat_minor": 2
}

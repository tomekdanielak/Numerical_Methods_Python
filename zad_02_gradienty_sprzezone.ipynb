{
 "cells": [
  {
   "cell_type": "code",
   "execution_count": 2,
   "metadata": {},
   "outputs": [],
   "source": [
    "import numpy as np\n",
    "import matplotlib.pyplot as plt\n",
    "import numpy.linalg as alg \n",
    "%matplotlib inline\n",
    "\n",
    "#rozwiązujemy Ax=e\n",
    "\n",
    "# definiuje macierz A\n",
    "A = np.zeros((128,128),dtype='float32')\n",
    "np.fill_diagonal(A,4)\n",
    "for i in range(127):\n",
    "    A[i][i+1] = 1\n",
    "    A[i+1][i] = 1\n",
    "for i in range(124):\n",
    "    A[i+4][i] = 1\n",
    "    A[i][i+4] = 1\n",
    "    \n",
    "\n",
    "# wektor e\n",
    "e = np.array([1 for i in range(128)], dtype='float32')\n"
   ]
  },
  {
   "cell_type": "code",
   "execution_count": 3,
   "metadata": {},
   "outputs": [
    {
     "name": "stdout",
     "output_type": "stream",
     "text": [
      "Liczba iteracji: \n",
      " 45\n",
      "\n",
      " Rozwiązanie wyliczone: \n",
      " [0.1942768  0.13093019 0.14679495 0.16231132 0.09196261 0.13520747\n",
      " 0.11957885 0.11199722 0.14035392 0.1166984  0.12768498 0.12976705\n",
      " 0.11792603 0.12995999 0.12321571 0.1233236  0.1282149  0.12231971\n",
      " 0.12616834 0.1255078  0.12357099 0.12637776 0.12428319 0.12490568\n",
      " 0.12561557 0.12431503 0.12541533 0.12497055 0.12474605 0.12533125\n",
      " 0.12476997 0.12505072 0.12509842 0.12484401 0.12512292 0.12495815\n",
      " 0.12496555 0.12507145 0.1249363  0.12502824 0.1250098  0.12496825\n",
      " 0.1250321  0.12498276 0.12499873 0.12501357 0.12498422 0.12500988\n",
      " 0.12499893 0.12499444 0.12500754 0.12499464 0.12500133 0.12500216\n",
      " 0.1249965  0.12500276 0.12499911 0.12499918 0.12500156 0.12499875\n",
      " 0.12500033 0.12500049 0.12499928 0.12500031 0.12500031 0.12499928\n",
      " 0.12500049 0.12500033 0.12499875 0.12500156 0.12499918 0.12499911\n",
      " 0.12500276 0.1249965  0.12500216 0.12500133 0.12499464 0.12500754\n",
      " 0.12499444 0.12499893 0.12500988 0.12498422 0.12501357 0.12499873\n",
      " 0.12498276 0.1250321  0.12496825 0.1250098  0.12502824 0.1249363\n",
      " 0.12507145 0.12496555 0.12495815 0.12512292 0.12484401 0.12509842\n",
      " 0.12505072 0.12476997 0.12533125 0.12474605 0.12497055 0.12541533\n",
      " 0.12431503 0.12561557 0.12490568 0.12428319 0.12637776 0.12357099\n",
      " 0.1255078  0.12616834 0.12231971 0.1282149  0.1233236  0.12321571\n",
      " 0.12995999 0.11792603 0.12976705 0.12768498 0.1166984  0.14035392\n",
      " 0.11199722 0.11957885 0.13520747 0.09196261 0.16231132 0.14679495\n",
      " 0.13093019 0.1942768 ]\n",
      "\n",
      " Rozwiązanie z Pythona:\n",
      " [0.1942768  0.1309302  0.14679492 0.16231132 0.09196261 0.13520749\n",
      " 0.11957885 0.11199722 0.14035393 0.11669838 0.127685   0.12976703\n",
      " 0.11792602 0.12996003 0.12321574 0.12332362 0.12821491 0.12231974\n",
      " 0.12616837 0.12550783 0.12357099 0.12637776 0.12428321 0.12490572\n",
      " 0.12561555 0.12431504 0.12541531 0.12497054 0.12474606 0.12533124\n",
      " 0.12476996 0.12505074 0.12509842 0.12484399 0.12512289 0.12495815\n",
      " 0.12496554 0.12507147 0.12493632 0.12502824 0.1250098  0.12496825\n",
      " 0.12503211 0.12498276 0.12499873 0.12501359 0.12498422 0.12500986\n",
      " 0.12499891 0.12499445 0.12500755 0.12499464 0.1250013  0.12500215\n",
      " 0.1249965  0.12500276 0.12499911 0.12499917 0.12500158 0.12499876\n",
      " 0.12500033 0.12500048 0.12499928 0.12500033 0.12500033 0.12499928\n",
      " 0.12500048 0.12500033 0.12499876 0.12500158 0.12499917 0.12499911\n",
      " 0.12500276 0.1249965  0.12500215 0.1250013  0.12499464 0.12500755\n",
      " 0.12499445 0.12499891 0.12500986 0.12498422 0.12501359 0.12499873\n",
      " 0.12498276 0.12503211 0.12496825 0.1250098  0.12502824 0.12493632\n",
      " 0.12507147 0.12496554 0.12495815 0.12512289 0.12484399 0.12509842\n",
      " 0.12505074 0.12476996 0.12533124 0.12474606 0.12497054 0.12541531\n",
      " 0.12431504 0.12561555 0.12490572 0.12428321 0.12637776 0.12357099\n",
      " 0.12550783 0.12616837 0.12231974 0.12821491 0.12332362 0.12321574\n",
      " 0.12996003 0.11792602 0.12976703 0.127685   0.11669838 0.14035393\n",
      " 0.11199722 0.11957885 0.13520749 0.09196261 0.16231132 0.14679492\n",
      " 0.1309302  0.1942768 ]\n",
      "\n",
      " Różnica rozwiązania pomiędzy kodem a funkcja w Pythonie: \n",
      " [ 0.0000000e+00  1.4901161e-08 -2.9802322e-08  0.0000000e+00\n",
      "  7.4505806e-09  1.4901161e-08 -7.4505806e-09  0.0000000e+00\n",
      "  1.4901161e-08 -1.4901161e-08  1.4901161e-08 -1.4901161e-08\n",
      " -7.4505806e-09  4.4703484e-08  2.9802322e-08  1.4901161e-08\n",
      "  1.4901161e-08  2.2351742e-08  2.9802322e-08  2.9802322e-08\n",
      "  0.0000000e+00  0.0000000e+00  1.4901161e-08  3.7252903e-08\n",
      " -1.4901161e-08  7.4505806e-09 -1.4901161e-08 -7.4505806e-09\n",
      "  7.4505806e-09 -1.4901161e-08 -1.4901161e-08  1.4901161e-08\n",
      "  0.0000000e+00 -1.4901161e-08 -2.9802322e-08  0.0000000e+00\n",
      " -7.4505806e-09  1.4901161e-08  1.4901161e-08  0.0000000e+00\n",
      "  0.0000000e+00  0.0000000e+00  1.4901161e-08  0.0000000e+00\n",
      "  7.4505806e-09  1.4901161e-08  0.0000000e+00 -1.4901161e-08\n",
      " -2.2351742e-08  7.4505806e-09  1.4901161e-08 -7.4505806e-09\n",
      " -2.9802322e-08 -1.4901161e-08  0.0000000e+00  0.0000000e+00\n",
      "  0.0000000e+00 -7.4505806e-09  1.4901161e-08  7.4505806e-09\n",
      "  0.0000000e+00 -1.4901161e-08  0.0000000e+00  1.4901161e-08\n",
      "  1.4901161e-08  0.0000000e+00 -1.4901161e-08  0.0000000e+00\n",
      "  7.4505806e-09  1.4901161e-08 -7.4505806e-09  0.0000000e+00\n",
      "  0.0000000e+00  0.0000000e+00 -1.4901161e-08 -2.9802322e-08\n",
      " -7.4505806e-09  1.4901161e-08  7.4505806e-09 -2.2351742e-08\n",
      " -1.4901161e-08  0.0000000e+00  1.4901161e-08  7.4505806e-09\n",
      "  0.0000000e+00  1.4901161e-08  0.0000000e+00  0.0000000e+00\n",
      "  0.0000000e+00  1.4901161e-08  1.4901161e-08 -7.4505806e-09\n",
      "  0.0000000e+00 -2.9802322e-08 -1.4901161e-08  0.0000000e+00\n",
      "  1.4901161e-08 -1.4901161e-08 -1.4901161e-08  7.4505806e-09\n",
      " -7.4505806e-09 -1.4901161e-08  7.4505806e-09 -1.4901161e-08\n",
      "  3.7252903e-08  1.4901161e-08  0.0000000e+00  0.0000000e+00\n",
      "  2.9802322e-08  2.9802322e-08  2.2351742e-08  1.4901161e-08\n",
      "  1.4901161e-08  2.9802322e-08  4.4703484e-08 -7.4505806e-09\n",
      " -1.4901161e-08  1.4901161e-08 -1.4901161e-08  1.4901161e-08\n",
      "  0.0000000e+00 -7.4505806e-09  1.4901161e-08  7.4505806e-09\n",
      "  0.0000000e+00 -2.9802322e-08  1.4901161e-08  0.0000000e+00]\n"
     ]
    },
    {
     "data": {
      "image/png": "[encoded data removed]",
      "text/plain": [
       "<Figure size 432x288 with 1 Axes>"
      ]
     },
     "metadata": {
      "needs_background": "light"
     },
     "output_type": "display_data"
    }
   ],
   "source": [
    "# Ax = e\n",
    "\n",
    "x_k = np.float32(np.zeros_like(e))    # początkowy wektor rozwiązań\n",
    "\n",
    "r_k = e - A@x_k # wektor 128x1\n",
    "p_k = r_k  # wektor 128x1\n",
    "epsilon = 1e-12\n",
    "norm_gradient_list = list()\n",
    "j=0\n",
    "\n",
    "x_vector_list = [x_k]\n",
    "\n",
    "#zdefiniuj r_k\n",
    "while True:\n",
    "    Apk = A@p_k\n",
    "    \n",
    "    alfa_k = (r_k.T@r_k)/(p_k.T@Apk)                # liczba\n",
    "    r_k1 = r_k - alfa_k*Apk                         # wektor\n",
    "    beta_k = (r_k1.T@r_k1)/(r_k.T@r_k)              # liczba\n",
    "    p_k1 = r_k1 + beta_k*p_k                        # wektor \n",
    "    x_k1 = x_k + alfa_k*p_k                         # wektor\n",
    "    \n",
    "    norm_gradient = np.sqrt(r_k.T@r_k)\n",
    "    \n",
    "    norm_gradient_list.append(norm_gradient)\n",
    "    x_vector_list.append(x_k1)\n",
    "\n",
    "    j+=1\n",
    "    \n",
    "    if norm_gradient <= epsilon:\n",
    "        break\n",
    "    \n",
    "    r_k = r_k1\n",
    "    p_k = p_k1\n",
    "    x_k = x_k1   \n",
    "    \n",
    "    \n",
    "python_solution = alg.solve(A,e)    \n",
    "print(\"Liczba iteracji: \\n\", j)\n",
    "print(\"\\n Rozwiązanie wyliczone: \\n\", x_k1)\n",
    "print(\"\\n Rozwiązanie z Pythona:\\n\", python_solution)\n",
    "print(\"\\n Różnica rozwiązania pomiędzy kodem a funkcja w Pythonie: \\n\", python_solution-x_k1)\n",
    "\n",
    "plt.plot([i for i in range(j)],norm_gradient_list)\n",
    "plt.show()"
   ]
  },
  {
   "cell_type": "code",
   "execution_count": 4,
   "metadata": {},
   "outputs": [
    {
     "name": "stdout",
     "output_type": "stream",
     "text": [
      "yes\n"
     ]
    },
    {
     "data": {
      "text/plain": [
       "'Współczynnik uwarunkowania macierzy A - kappa wynosi 40, jest znacznie większy niż 1, co spowodowało znaczne spowolnienie metody. \\nPo drugiej iteracji rozwiązanie: wektor x_k1 jest już blisko docelowego rozwiązania. Kolejne iteracje schodzą na uzyskaniu zadanej dokładności'"
      ]
     },
     "execution_count": 4,
     "metadata": {},
     "output_type": "execute_result"
    }
   ],
   "source": [
    "\"\"\" Z powodu skończonej dokładności kolejne generowane wektory nie są ściśle ortogonalne do poprzedników. Akumulacja błędów prowadzi do znaczengo spowolnienia metody\"\"\"\n",
    "\n",
    "norma_k = python_solution-x_vector_list[-1]\n",
    "norma_1 = python_solution-x_vector_list[1]\n",
    "\n",
    "# sprawdzam warunek na szybkość zbieżności metody gradientów sprzężonych dla tej macierzy\n",
    "\n",
    "kappa = 40\n",
    "kappa_part = ((np.sqrt(kappa) - 1) / (np.sqrt(kappa) + 1))**(44)\n",
    "\n",
    "if np.sqrt(norma_k.T@norma_k) <= 2*np.sqrt(norma_1.T@norma_1)*kappa_part:\n",
    "    print(\"yes\")\n",
    "else:\n",
    "    print(\"no\")\n",
    "    \n",
    "\"\"\"Współczynnik uwarunkowania macierzy A - kappa wynosi 40, jest znacznie większy niż 1, co spowodowało znaczne spowolnienie metody. \n",
    "Po drugiej iteracji rozwiązanie: wektor x_k1 jest już blisko docelowego rozwiązania. Kolejne iteracje schodzą na uzyskaniu zadanej dokładności\"\"\"\n",
    "\n",
    "\n",
    "\n",
    "\n"
   ]
  }
 ],
 "metadata": {
  "kernelspec": {
   "display_name": "Python 3",
   "language": "python",
   "name": "python3"
  },
  "language_info": {
   "codemirror_mode": {
    "name": "ipython",
    "version": 3
   },
   "file_extension": ".py",
   "mimetype": "text/x-python",
   "name": "python",
   "nbconvert_exporter": "python",
   "pygments_lexer": "ipython3",
   "version": "3.7.1"
  }
 },
 "nbformat": 4,
 "nbformat_minor": 2
}

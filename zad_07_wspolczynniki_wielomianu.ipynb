{
 "cells": [
  {
   "cell_type": "code",
   "execution_count": 1,
   "metadata": {},
   "outputs": [
    {
     "name": "stdout",
     "output_type": "stream",
     "text": [
      "\n",
      "\n",
      " [-6.24152380e-03  2.27555555e-02  9.66417067e-01 -1.97431111e+00\n",
      "  1.98918067e+00  2.44993055e-03 -5.00026498e+00  1.00000955e+00]\n"
     ]
    },
    {
     "data": {
      "image/png": "[encoded data removed]",
      "text/plain": [
       "<Figure size 432x288 with 1 Axes>"
      ]
     },
     "metadata": {
      "needs_background": "light"
     },
     "output_type": "display_data"
    }
   ],
   "source": [
    "import numpy as np\n",
    "import matplotlib.pyplot as plt\n",
    "from scipy.linalg import solve\n",
    "%matplotlib inline\n",
    "\n",
    "vector_x = np.array([0.062500, 0.187500, 0.312500, 0.437500, 0.562500, 0.687500, 0.812500, 0.937500])\n",
    "vector_y = np.array([0.687959, 0.073443, -0.517558, -1.077264, -1.600455, -2.080815, -2.507266, -2.860307])\n",
    "plt.scatter(vector_x, vector_y, alpha=\"0.7\", c=\"red\", s=10)\n",
    "\"\"\"\n",
    "mamy n=8 punktów - wielomian będzie stopnia n-1. Do obliczenia wartości współczynników wielomianu interpolacyjnego użyje\n",
    "macierzy Vandermonde'a. Żadne z punktów x1, x2,.... się nie pokrywają więc wyznacznik tej macierzy będzie różny od 0\n",
    "\"\"\"\n",
    "vandermonde_matrix = np.vander(vector_x)\n",
    "# print(vandermonde_matrix)\n",
    "\n",
    "coeff_matrix = solve(vandermonde_matrix, vector_y)\n",
    "print(\"\\n\\n\", coeff_matrix)\n",
    "\n",
    "\n",
    "def polynomial(x):\n",
    "    polynomial = coeff_matrix[0]*(x**7) + coeff_matrix[1]*(x**6) + coeff_matrix[2]*(x**5) + coeff_matrix[3]*(x**4) + coeff_matrix[4]*(x**3) + coeff_matrix[5]*(x**2) + coeff_matrix[6]*(x**1) + coeff_matrix[7]*(x**0)   \n",
    "    return polynomial\n",
    "\n",
    "\n",
    "# wykres\n",
    "samples = np.linspace(-1,1,100)\n",
    "\n",
    "try_polynomial_values = list()\n",
    "for i in range(len(samples)):\n",
    "    try_polynomial_values.append(polynomial(samples[i]))\n",
    "                                 \n",
    "plt.plot(samples, try_polynomial_values, c=\"green\")\n",
    "\n",
    "plt.xlim(-1,1)\n",
    "plt.show()\n",
    "\n"
   ]
  }
 ],
 "metadata": {
  "kernelspec": {
   "display_name": "Python 3",
   "language": "python",
   "name": "python3"
  },
  "language_info": {
   "codemirror_mode": {
    "name": "ipython",
    "version": 3
   },
   "file_extension": ".py",
   "mimetype": "text/x-python",
   "name": "python",
   "nbconvert_exporter": "python",
   "pygments_lexer": "ipython3",
   "version": "3.7.1"
  }
 },
 "nbformat": 4,
 "nbformat_minor": 2
}

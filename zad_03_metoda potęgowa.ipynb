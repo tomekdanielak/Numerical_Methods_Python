{
 "cells": [
  {
   "cell_type": "code",
   "execution_count": 1,
   "metadata": {},
   "outputs": [
    {
     "name": "stdout",
     "output_type": "stream",
     "text": [
      "Liczba iteracji 9\n",
      "\n",
      " Wektor własny do największej wartości własnej: \n",
      " [[0.40999294]\n",
      " [0.40811212]\n",
      " [0.40824711]\n",
      " [0.40824713]\n",
      " [0.40822787]\n",
      " [0.40665571]]\n",
      "\n",
      " Największa wartość własna do wektora własnego: \n",
      " [[3.99999115]]\n"
     ]
    }
   ],
   "source": [
    "import numpy as np\n",
    "\n",
    "A = np.matrix([[19/12, 13/12, 5/6, 5/6, 13/12, -17/12],\n",
    "               [13/12, 13/12, 5/6, 5/6, -11/12, 13/12],\n",
    "               [5/6, 5/6, 5/6, -1/6, 5/6, 5/6],\n",
    "               [5/6, 5/6, -1/6, 5/6, 5/6, 5/6],\n",
    "               [13/12, -11/12, 5/6, 5/6, 13/12, 13/12],\n",
    "               [-17/12, 13/12, 5/6, 5/6, 13/12, 19/12]])\n",
    "\"\"\"\n",
    "Macierz A jest symetryczna ma rzeczywiste wartości własne jej unormowany wektory tworzą bazę ortonormalną w R^n\n",
    "\"\"\"\n",
    "\n",
    "# funkcja obliczająca normę euklidesowa\n",
    "def norm_of_vector(vector):\n",
    "    norm_value = np.sqrt(vector.T@vector)\n",
    "    return norm_value\n",
    "\n",
    "\n",
    "random_vector = np.matrix([3,5,6,7,8,2])\n",
    "# vector_x0 = random_vector / norm_of_vector(random_vector)\n",
    "eigenvector_xk = A@random_vector.T\n",
    "\n",
    "\n",
    "eigenvectors_list = list()\n",
    "eigenvalues_list = list()\n",
    "k=0\n",
    "\n",
    "while True:\n",
    "    vector_zk = A@eigenvector_xk\n",
    "    \n",
    "    #normalizuje\n",
    "    norm_of_vector_zk = norm_of_vector(vector_zk)\n",
    "\n",
    "    eigenvector_xk_1 = vector_zk / norm_of_vector_zk\n",
    "\n",
    "   \n",
    "\n",
    "    # sprawdzam czy się jeszcze zmienia\n",
    "    vector_distinction = np.abs(eigenvector_xk_1 - eigenvector_xk)\n",
    "    value = all(element < 0.001 for element in vector_distinction)\n",
    "    if value == True:\n",
    "        break\n",
    "        \n",
    "    eigenvector_xk = eigenvector_xk_1\n",
    "    k+=1\n",
    "\n",
    "    \n",
    "print(\"Liczba iteracji\", k)\n",
    "eigenvectors_list.append(eigenvector_xk_1)    \n",
    "print(\"\\n Wektor własny do największej wartości własnej: \\n\", eigenvector_xk_1)\n",
    "eigenvalue_xk = norm_of_vector_zk\n",
    "eigenvalues_list.append(eigenvalue_xk)\n",
    "print(\"\\n Największa wartość własna do wektora własnego: \\n\", eigenvalue_xk)\n",
    "    \n",
    "\n",
    "    \n",
    "\n"
   ]
  },
  {
   "cell_type": "code",
   "execution_count": 2,
   "metadata": {},
   "outputs": [
    {
     "name": "stdout",
     "output_type": "stream",
     "text": [
      "Lista wektorów odpowiadającym największym wartościom własnym: \n",
      " [matrix([[0.40999294],\n",
      "        [0.40811212],\n",
      "        [0.40824711],\n",
      "        [0.40824713],\n",
      "        [0.40822787],\n",
      "        [0.40665571]]), matrix([[-0.70643999],\n",
      "        [ 0.00133695],\n",
      "        [ 0.00096342],\n",
      "        [ 0.00096342],\n",
      "        [ 0.00118733],\n",
      "        [ 0.70776937]])] \n",
      "\n",
      "Lista dwóch największych wartości własnych: \n",
      " [matrix([[3.99999115]]), matrix([[3.00000488]])] \n",
      "\n"
     ]
    }
   ],
   "source": [
    "\n",
    "max_eigenvector = eigenvector_xk_1 # wektro e1 największy obliczyliśmy w poprzedniej pętli\n",
    "second_eigenvector_xk = eigenvector_xk_1\n",
    "\n",
    "j=0\n",
    "\n",
    "# pętla obliczająca drugą co do wielkości wartość własną\n",
    "while True:\n",
    "    vector_zk = A@second_eigenvector_xk\n",
    "\n",
    "    vector_zk = vector_zk - max_eigenvector@(max_eigenvector.T@vector_zk)\n",
    "    \n",
    "    second_eigenvector_xk_1 = vector_zk / norm_of_vector(vector_zk)\n",
    "    \n",
    "    # sprawdzam czy się jeszcze zmienia\n",
    "    vector_distinction = np.abs(second_eigenvector_xk_1 - second_eigenvector_xk)\n",
    "    value = all(element < 0.001 for element in vector_distinction)\n",
    "    if value == True:\n",
    "        break\n",
    "    \n",
    "    second_eigenvector_xk = second_eigenvector_xk_1\n",
    "    j+=1\n",
    "    \n",
    "# lista wektorów i wartości\n",
    "eigenvectors_list.append(second_eigenvector_xk_1)\n",
    "eigenvalues_list.append(norm_of_vector(vector_zk))\n",
    "\n",
    "print(\"Lista wektorów odpowiadającym największym wartościom własnym: \\n\",eigenvectors_list,\"\\n\")\n",
    "print(\"Lista dwóch największych wartości własnych: \\n\",eigenvalues_list,\"\\n\")\n"
   ]
  },
  {
   "cell_type": "code",
   "execution_count": null,
   "metadata": {},
   "outputs": [],
   "source": []
  }
 ],
 "metadata": {
  "kernelspec": {
   "display_name": "Python 3",
   "language": "python",
   "name": "python3"
  },
  "language_info": {
   "codemirror_mode": {
    "name": "ipython",
    "version": 3
   },
   "file_extension": ".py",
   "mimetype": "text/x-python",
   "name": "python",
   "nbconvert_exporter": "python",
   "pygments_lexer": "ipython3",
   "version": "3.7.1"
  }
 },
 "nbformat": 4,
 "nbformat_minor": 2
}

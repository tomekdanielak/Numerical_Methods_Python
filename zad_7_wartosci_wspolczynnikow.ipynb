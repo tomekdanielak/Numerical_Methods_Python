{
 "cells": [
  {
   "cell_type": "code",
   "execution_count": null,
   "metadata": {},
   "outputs": [],
   "source": [
    "# ZADANIE 7.\n",
    "\n",
    "import numpy as np\n",
    "import matplotlib.pyplot as plt\n",
    "\n",
    "wektor_x = np.array([0.062500, 0.187500, 0.312500, 0.437500, 0.562500, 0.687500, 0.812500, 0.937500])\n",
    "wektor_y = np.array([0.687959, 0.073443, -0.517558, -1.077264, -1.600455, -2.080815, -2.507266, -2.860307])\n",
    "\n",
    "# mamy n=8 punktów - wielomian będzie stopnia n-1\n",
    "# Do obliczenia wartości współczynników wielomianu interpolacyjnego użyje\n",
    "# macierzy Vandermonde'a. Żadne z punktów x1, x2,.... się nie pokrywają więc wyznacznik\n",
    "# tej macierzy będzie różny od 0\n",
    "\n",
    "plt.scatter(wektor_x, wektor_y, alpha=0.4, c='red', s=10)\n",
    "plt.show()\n",
    "\n",
    "\n",
    "\n"
   ]
  }
 ],
 "metadata": {
  "kernelspec": {
   "display_name": "Python 3",
   "language": "python",
   "name": "python3"
  },
  "language_info": {
   "codemirror_mode": {
    "name": "ipython",
    "version": 3
   },
   "file_extension": ".py",
   "mimetype": "text/x-python",
   "name": "python",
   "nbconvert_exporter": "python",
   "pygments_lexer": "ipython3",
   "version": "3.7.1"
  }
 },
 "nbformat": 4,
 "nbformat_minor": 2
}

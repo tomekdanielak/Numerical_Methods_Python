{
 "cells": [
  {
   "cell_type": "code",
   "execution_count": 1,
   "metadata": {},
   "outputs": [],
   "source": [
    "import numpy as np\n",
    "from scipy.integrate import romberg\n",
    "import matplotlib.pyplot as plt"
   ]
  },
  {
   "cell_type": "code",
   "execution_count": 39,
   "metadata": {},
   "outputs": [
    {
     "data": {
      "image/png": "[encoded data removed]",
      "text/plain": [
       "<Figure size 432x288 with 1 Axes>"
      ]
     },
     "metadata": {
      "needs_background": "light"
     },
     "output_type": "display_data"
    }
   ],
   "source": [
    "def funkcja(x):\n",
    "    return np.sin(np.pi*((1 + np.sqrt(x)) / (1 + x**2)))*np.exp(-x)\n",
    "\n",
    "# poglądowy wykres funkcji podcałkowej    \n",
    "samples = np.linspace(0, 17, 1000)\n",
    "plt.plot(samples, funkcja(samples))\n",
    "\n",
    "# czerwona linia - zaznacza początek całkowania\n",
    "zero_samples = np.linspace(-0.8, 0.5, 100)\n",
    "zero_values = np.linspace(0,0,100)\n",
    "plt.plot(zero_values, zero_samples, \"r--\", linewidth=0.7)\n",
    "plt.show()"
   ]
  },
  {
   "cell_type": "code",
   "execution_count": 38,
   "metadata": {},
   "outputs": [
    {
     "name": "stdout",
     "output_type": "stream",
     "text": [
      "Romberg integration of <function vectorize1.<locals>.vfunc at 0x0000012F329771E0> from [0, 17]\n",
      "\n",
      " Steps  StepSize   Results\n",
      "     1 17.000000  0.000000 \n",
      "     2  8.500000  0.000289  0.000385 \n",
      "     4  4.250000  0.029452  0.039173  0.041759 \n",
      "     8  2.125000  0.265781  0.344557  0.364916  0.370045 \n",
      "    16  1.062500  0.218808  0.203151  0.193724  0.191007  0.190305 \n",
      "    32  0.531250 -0.028494 -0.110928 -0.131867 -0.137035 -0.138321 -0.138643 \n",
      "    64  0.265625 -0.137075 -0.173269 -0.177425 -0.178148 -0.178309 -0.178349 -0.178358 \n",
      "   128  0.132812 -0.187127 -0.203811 -0.205847 -0.206298 -0.206409 -0.206436 -0.206443 -0.206445 \n",
      "   256  0.066406 -0.206347 -0.212754 -0.213350 -0.213469 -0.213497 -0.213504 -0.213506 -0.213506 -0.213506 \n",
      "   512  0.033203 -0.213367 -0.215707 -0.215904 -0.215944 -0.215954 -0.215956 -0.215957 -0.215957 -0.215957 -0.215957 \n",
      "  1024  0.016602 -0.215886 -0.216725 -0.216793 -0.216807 -0.216811 -0.216811 -0.216812 -0.216812 -0.216812 -0.216812 -0.216812 \n",
      "\n",
      "The final result is -0.21681175642813677 after 1025 function evaluations.\n"
     ]
    }
   ],
   "source": [
    "\"\"\"\n",
    "Mamy całkę po przedziale nieskończonym. Zgodnie ze wskazówką w zadaniu rozbijam ją na dwie całki w granicach [0,A] i [A, +nieskończoność]\n",
    "Całka w pierwszym przedziale jest całką po przedziale zamkniętym i możemy ją policzyć metodą Romberga.\n",
    "\n",
    "\n",
    "Szukamy takiego ogona [A, +nieskończoność] który na pewno będzie zmierzał do 0\n",
    "Tą całkę szacujemy analitycznie\n",
    "\n",
    "Możemu zauważyć że funkcja podcałkowa jest niewiększa nod exp(-x) : sin porusza się tylko od [-1,1], a exp(-x) dąży do zera \n",
    "i szybko \"tłumi\" całą funkcję\n",
    "Jednocześnie: \n",
    "                całka z exp(-x) w granicach [17, + nieskończoność] wynosi exp(-17) czyli ok. 0.414*10**(-7)\n",
    "                \n",
    "Dlatego musimy policzyć całkę z naszej funkcji po przedziale [0,17] z dokładnością nie mniejsza niż 0.586*10**(-7)\n",
    "\"\"\"\n",
    "\n",
    "romberg_integration = romberg(funkcja, 0, 17, tol=0.586e-07, show=True)\n",
    "# tol to zadana toleracja"
   ]
  }
 ],
 "metadata": {
  "kernelspec": {
   "display_name": "Python 3",
   "language": "python",
   "name": "python3"
  },
  "language_info": {
   "codemirror_mode": {
    "name": "ipython",
    "version": 3
   },
   "file_extension": ".py",
   "mimetype": "text/x-python",
   "name": "python",
   "nbconvert_exporter": "python",
   "pygments_lexer": "ipython3",
   "version": "3.7.1"
  }
 },
 "nbformat": 4,
 "nbformat_minor": 2
}

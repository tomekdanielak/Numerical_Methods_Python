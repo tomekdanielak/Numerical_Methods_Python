{
 "cells": [
  {
   "cell_type": "markdown",
   "metadata": {},
   "source": [
    "Gauss nie jest dobry gdy mamy elementy zerowe w macierzy\n"
   ]
  },
  {
   "cell_type": "code",
   "execution_count": null,
   "metadata": {},
   "outputs": [],
   "source": [
    "gsdfg"
   ]
  },
  {
   "cell_type": "code",
   "execution_count": null,
   "metadata": {},
   "outputs": [],
   "source": [
    "dfgsfgs"
   ]
  },
  {
   "cell_type": "markdown",
   "metadata": {},
   "source": [
    "### ZADANIE 1"
   ]
  },
  {
   "cell_type": "code",
   "execution_count": 75,
   "metadata": {},
   "outputs": [
    {
     "name": "stdout",
     "output_type": "stream",
     "text": [
      "[[2.         0.         0.         0.         0.         0.\n",
      "  0.        ]\n",
      " [0.5        1.93649167 0.         0.         0.         0.\n",
      "  0.        ]\n",
      " [0.         0.51639778 1.93218357 0.         0.         0.\n",
      "  0.        ]\n",
      " [0.         0.         0.51754917 1.93187548 0.         0.\n",
      "  0.        ]\n",
      " [0.         0.         0.         0.51763171 1.93185336 0.\n",
      "  0.        ]\n",
      " [0.         0.         0.         0.         0.51763763 1.93185178\n",
      "  0.        ]\n",
      " [0.         0.         0.         0.         0.         0.51763806\n",
      "  1.93185166]]\n",
      "[[2.         0.5        0.         0.         0.         0.\n",
      "  0.        ]\n",
      " [0.         1.93649167 0.51639778 0.         0.         0.\n",
      "  0.        ]\n",
      " [0.         0.         1.93218357 0.51754917 0.         0.\n",
      "  0.        ]\n",
      " [0.         0.         0.         1.93187548 0.51763171 0.\n",
      "  0.        ]\n",
      " [0.         0.         0.         0.         1.93185336 0.51763763\n",
      "  0.        ]\n",
      " [0.         0.         0.         0.         0.         1.93185178\n",
      "  0.51763806]\n",
      " [0.         0.         0.         0.         0.         0.\n",
      "  1.93185166]]\n",
      "[[4. 1. 0. 0. 0. 0. 0.]\n",
      " [1. 4. 1. 0. 0. 0. 0.]\n",
      " [0. 1. 4. 1. 0. 0. 0.]\n",
      " [0. 0. 1. 4. 1. 0. 0.]\n",
      " [0. 0. 0. 1. 4. 1. 0.]\n",
      " [0. 0. 0. 0. 1. 4. 1.]\n",
      " [0. 0. 0. 0. 0. 1. 4.]]\n"
     ]
    },
    {
     "data": {
      "text/plain": [
       "array([[2.        , 0.5       , 0.        , 0.        , 0.        ,\n",
       "        0.        , 0.        ],\n",
       "       [0.        , 1.93649167, 0.51639778, 0.        , 0.        ,\n",
       "        0.        , 0.        ],\n",
       "       [0.        , 0.        , 1.93218357, 0.51754917, 0.        ,\n",
       "        0.        , 0.        ],\n",
       "       [0.        , 0.        , 0.        , 1.93187548, 0.51763171,\n",
       "        0.        , 0.        ],\n",
       "       [0.        , 0.        , 0.        , 0.        , 1.93185336,\n",
       "        0.51763763, 0.        ],\n",
       "       [0.        , 0.        , 0.        , 0.        , 0.        ,\n",
       "        1.93185178, 0.51763806],\n",
       "       [0.        , 0.        , 0.        , 0.        , 0.        ,\n",
       "        0.        , 1.93185166]])"
      ]
     },
     "execution_count": 75,
     "metadata": {},
     "output_type": "execute_result"
    }
   ],
   "source": [
    "# Dobieraja˛c odpowiednie algorytmy (wybór trzeba uzasadnic´!), \n",
    "# rozwia˛zac´ naste˛puja˛ce układy równa´n:\n",
    "\n",
    "\n",
    "import numpy as np\n",
    "from scipy.linalg import cholesky \n",
    "\n",
    "# ------------------ przykład a ------------------\n",
    "\n",
    "# definiuje macierz\n",
    "A = np.zeros((7,7),dtype=float)\n",
    "np.fill_diagonal(A,4)\n",
    "\n",
    "for i in range(6):\n",
    "    A[i][i+1] = 1\n",
    "    A[i+1][i] = 1\n",
    "\n",
    "\n",
    "#------------------\n",
    "\n",
    "L = cholesky(A, lower=True)\n",
    "U = cholesky(A, lower=False)\n",
    "print(L)\n",
    "print(U)\n",
    "print(L@U)\n",
    "\n",
    "#------------------\n",
    "\n",
    "\n",
    "\n",
    "def cholesky(A):\n",
    "    n = len(A)\n",
    "    \n",
    "    # M\n",
    "    L = [[0.0] * n for i in range(n)]\n",
    "    \n",
    "    \n",
    "    for i in range(n):\n",
    "        for k in range(i+1):\n",
    "            tmp_sum = sum(L[i][j] * L[k][j] for j in range(k))\n",
    "            \n",
    "            if (i == k):\n",
    "                L[i][k]  = sqrt(A[i][i] - tmp_sum)\n",
    "            else:\n",
    "                L[i][k] = (1.0 / L[k][k] * (A[i][k] - tmp_sum))\n",
    "    \n",
    "    \n",
    "    return L\n",
    "\n",
    "\n",
    "cholesky(A)\n",
    "    \n",
    "https://www.quantstart.com/articles/Cholesky-Decomposition-in-Python-and-NumPy/\n",
    "\n",
    "\n",
    "\n"
   ]
  },
  {
   "cell_type": "code",
   "execution_count": 65,
   "metadata": {},
   "outputs": [
    {
     "name": "stdout",
     "output_type": "stream",
     "text": [
      "[[4. 1. 0. 0. 0. 0. 1.]\n",
      " [1. 4. 1. 0. 0. 0. 0.]\n",
      " [0. 1. 4. 1. 0. 0. 0.]\n",
      " [0. 0. 1. 4. 1. 0. 0.]\n",
      " [0. 0. 0. 1. 4. 1. 0.]\n",
      " [0. 0. 0. 0. 1. 4. 1.]\n",
      " [1. 0. 0. 0. 0. 1. 4.]]\n"
     ]
    }
   ],
   "source": [
    "\n",
    "# ------------------ przykład b ------------------\n",
    "\n",
    "# definiuje macierz\n",
    "B = np.zeros((7,7),dtype=float)\n",
    "np.fill_diagonal(B,4)\n",
    "\n",
    "for i in range(6):\n",
    "    B[i][i+1] = 1\n",
    "    B[i+1][i] = 1\n",
    "B[6][0] = 1\n",
    "B[0][6] = 1\n",
    "    \n",
    "    \n",
    "print(B)"
   ]
  },
  {
   "cell_type": "markdown",
   "metadata": {},
   "source": [
    "### ZADANIE 2"
   ]
  },
  {
   "cell_type": "code",
   "execution_count": 43,
   "metadata": {},
   "outputs": [
    {
     "name": "stdout",
     "output_type": "stream",
     "text": [
      "Ulalala i lov ju bejbe teraz będzie rozwiązanie np.solve [0.1942768  0.1309302  0.14679491 0.16231132 0.09196262 0.13520749\n",
      " 0.11957885 0.11199721 0.14035394 0.11669839 0.127685   0.12976704\n",
      " 0.11792602 0.12996003 0.12321575 0.12332362 0.12821491 0.12231973\n",
      " 0.12616837 0.12550782 0.12357099 0.12637776 0.12428321 0.12490572\n",
      " 0.12561555 0.12431504 0.12541532 0.12497054 0.12474606 0.12533124\n",
      " 0.12476995 0.12505074 0.12509842 0.12484399 0.1251229  0.12495815\n",
      " 0.12496554 0.12507147 0.12493632 0.12502824 0.12500981 0.12496826\n",
      " 0.12503211 0.12498276 0.12499873 0.12501358 0.12498422 0.12500987\n",
      " 0.12499891 0.12499445 0.12500755 0.12499463 0.1250013  0.12500215\n",
      " 0.1249965  0.12500275 0.12499911 0.12499917 0.12500157 0.12499875\n",
      " 0.12500033 0.12500048 0.12499928 0.12500033 0.12500033 0.12499928\n",
      " 0.12500048 0.12500033 0.12499875 0.12500157 0.12499917 0.12499911\n",
      " 0.12500275 0.1249965  0.12500215 0.1250013  0.12499463 0.12500755\n",
      " 0.12499445 0.12499891 0.12500987 0.12498422 0.12501358 0.12499873\n",
      " 0.12498276 0.12503211 0.12496826 0.12500981 0.12502824 0.12493632\n",
      " 0.12507147 0.12496554 0.12495815 0.1251229  0.12484399 0.12509842\n",
      " 0.12505074 0.12476995 0.12533124 0.12474606 0.12497054 0.12541532\n",
      " 0.12431504 0.12561555 0.12490572 0.12428321 0.12637776 0.12357099\n",
      " 0.12550782 0.12616837 0.12231973 0.12821491 0.12332362 0.12321575\n",
      " 0.12996003 0.11792602 0.12976704 0.127685   0.11669839 0.14035394\n",
      " 0.11199721 0.11957885 0.13520749 0.09196262 0.16231132 0.14679491\n",
      " 0.1309302  0.1942768 ]\n",
      "6\n",
      "[0.19375919 0.13063827 0.14710046 0.1613912  0.09241902 0.13501607\n",
      " 0.11880143 0.11276036 0.13940691 0.11671682 0.12797229 0.12876924\n",
      " 0.1185019  0.12949075 0.12279837 0.12374865 0.12743743 0.12246645\n",
      " 0.12607427 0.12496824 0.12383013 0.12593087 0.12413036 0.12493044\n",
      " 0.12516974 0.12435004 0.12518812 0.12471079 0.12473333 0.12502103\n",
      " 0.1246569  0.12490963 0.12484313 0.12475781 0.12490477 0.12478256\n",
      " 0.12483434 0.12485145 0.12479703 0.12485168 0.12482104 0.12482259\n",
      " 0.12484056 0.12481788 0.12483361 0.12482928 0.12482436 0.12483306\n",
      " 0.12482576 0.12482896 0.12482979 0.12482675 0.12482987 0.12482806\n",
      " 0.12482824 0.12482918 0.12482794 0.12482883 0.12482855 0.12482832\n",
      " 0.12482877 0.12482838 0.12482856 0.12482859 0.12482844 0.1248286\n",
      " 0.1248285  0.12482852 0.12482856 0.1248285  0.12482855 0.12482853\n",
      " 0.12482852 0.12482854 0.12482852 0.12482853 0.12482853 0.12482853\n",
      " 0.12482854 0.12482853 0.12482853 0.12482853 0.12482853 0.12482853\n",
      " 0.12482853 0.12482853 0.12482853 0.12482853 0.12482853 0.12482853\n",
      " 0.12482853 0.12482853 0.12482853 0.12482853 0.12482853 0.12482853\n",
      " 0.12482853 0.12482853 0.12482853 0.12482853 0.12482853 0.12482853\n",
      " 0.12482853 0.12482853 0.12482853 0.12482853 0.12482853 0.12482853\n",
      " 0.12499129 0.12478784 0.12494043 0.12566522 0.12384328 0.12550675\n",
      " 0.12606753 0.12104027 0.1295556  0.12491254 0.12067408 0.13762937\n",
      " 0.11203608 0.12178646 0.13235154 0.09377331 0.16223962 0.14573728\n",
      " 0.13223612 0.19349764]\n"
     ]
    },
    {
     "data": {
      "image/png": "[encoded data removed]",
      "text/plain": [
       "<Figure size 432x288 with 1 Axes>"
      ]
     },
     "metadata": {
      "needs_background": "light"
     },
     "output_type": "display_data"
    }
   ],
   "source": [
    "import numpy as np\n",
    "import matplotlib.pyplot as plt\n",
    "import numpy.linalg as alg \n",
    "\n",
    "#rozwiązujemy Ax=e\n",
    "\n",
    "# definiuje macierz\n",
    "A = np.zeros((128,128),dtype=float)\n",
    "np.fill_diagonal(A,4)\n",
    "for i in range(127):\n",
    "    A[i][i+1] = 1\n",
    "    A[i+1][i] = 1\n",
    "for i in range(124):\n",
    "    A[i+4][i] = 1\n",
    "    A[i][i+4] = 1\n",
    "\n",
    "# wektor e\n",
    "e = np.array([1 for i in range(128)])\n",
    "\n",
    "###########################################\n",
    "# x(k+1) = [M^(-1)N] x(k) + [M^(-1)b]\n",
    "# macierze trójkątne\n",
    "M = np.tril(A) # macierz trójkątna dolna z diagonalą\n",
    "invM = alg.inv(M)\n",
    "N = (-1)*(A - M) # macierz trójkątana górna\n",
    "\n",
    "Z = np.dot(invM,N) #iloczyny tych macierzy nie będą się zmieniać więc policze je tylko raz\n",
    "W = np.dot(invM,e)\n",
    "\n",
    "x = np.zeros_like(e) # początkowy wektor rozwiązań\n",
    "\n",
    "\n",
    "steps = 30  # liczba iteracji\n",
    "\n",
    "\n",
    "# kod macierzowy\n",
    "\n",
    "j=0\n",
    "norm_list = list()\n",
    "\n",
    "for i in range(steps):\n",
    "    x_k = np.dot(Z,x) + W\n",
    "     \n",
    "    a = x_k - x\n",
    "    norm = np.sqrt(a.T@a)\n",
    "    norm_list.append(norm)\n",
    "    x=x_k\n",
    "\n",
    "     \n",
    "    \n",
    "    j+=1\n",
    "       \n",
    "    if norm <= 0.01:\n",
    "        break\n",
    "\n",
    "\n",
    "\n",
    "print(\"Ulalala i lov ju bejbe teraz będzie rozwiązanie np.solve\", alg.solve(A,e))\n",
    "print(j)\n",
    "print(x)\n",
    "\n",
    "plt.plot([i for i in range(j)],norm_list)\n",
    "plt.show()\n",
    "    \n",
    "# kod ze wzoru\n"
   ]
  },
  {
   "cell_type": "code",
   "execution_count": 49,
   "metadata": {},
   "outputs": [
    {
     "name": "stdout",
     "output_type": "stream",
     "text": [
      "[0.016760882286831265, 0.008507836156247138]\n",
      "[ 5.63510300e-04  2.03163278e-04 -3.57356509e-04  7.01136914e-04\n",
      " -5.77434534e-04 -7.34740704e-05  4.05791314e-04 -7.25437887e-04\n",
      "  4.51729310e-04 -1.73322136e-04 -3.63363643e-04  4.29012311e-04\n",
      " -4.88358529e-04  9.37727589e-05  6.75262220e-05 -3.66952240e-04\n",
      "  2.29818402e-04 -2.16292917e-04 -9.58071257e-05  9.08726699e-05\n",
      " -2.44384928e-04  4.96538599e-05 -7.88207581e-05 -1.32436958e-04\n",
      "  3.15861836e-05 -1.39306296e-04 -4.06281916e-05 -4.23973889e-05\n",
      " -1.11348410e-04 -2.25918337e-05 -8.57359018e-05 -6.90014154e-05\n",
      " -4.54786671e-05 -8.68342342e-05 -5.13871577e-05 -6.69745002e-05\n",
      " -7.20861086e-05 -5.49265817e-05 -7.27935288e-05 -6.23353557e-05\n",
      " -6.31114068e-05 -6.92757906e-05 -6.11126323e-05 -6.70367869e-05\n",
      " -6.52287251e-05 -6.34723107e-05 -6.68496510e-05 -6.38690321e-05\n",
      " -6.52783798e-05 -6.55323356e-05 -6.42851501e-05 -6.56445927e-05\n",
      " -6.48053509e-05 -6.49349024e-05 -6.53287611e-05 -6.47632809e-05\n",
      " -6.51944484e-05 -6.50391081e-05 -6.49468028e-05 -6.51601233e-05\n",
      " -6.49610712e-05 -6.50642070e-05 -6.50680603e-05 -6.49967306e-05\n",
      " -6.50805793e-05 -6.50251189e-05 -6.50382183e-05 -6.50580114e-05\n",
      " -6.50257264e-05 -6.50519899e-05 -6.50409763e-05 -6.50374759e-05\n",
      " -6.50487093e-05 -6.50374260e-05 -6.50438480e-05 -6.50432965e-05\n",
      " -6.50398866e-05 -6.50443275e-05 -6.50411586e-05 -6.50421512e-05\n",
      " -6.50429617e-05 -6.50413657e-05 -6.50427653e-05 -6.50420951e-05\n",
      " -6.50420170e-05 -6.50425309e-05 -6.50419662e-05 -6.50423184e-05\n",
      " -6.50422514e-05 -6.50421112e-05 -6.50423202e-05 -6.50421586e-05\n",
      " -6.50422208e-05 -6.50422474e-05 -6.50421771e-05 -6.50422442e-05\n",
      " -6.50422081e-05 -6.50422093e-05 -6.50422302e-05 -6.50422046e-05\n",
      " -4.49694092e-05 -7.00604204e-05 -5.12421533e-05  7.82902086e-05\n",
      " -1.88869682e-04  8.44174284e-05  3.09475518e-04 -7.05283953e-04\n",
      "  6.46744593e-04  2.08774714e-04 -1.49382850e-03  1.80339250e-03\n",
      " -8.24886511e-04 -1.45623821e-03  2.76088618e-03 -2.37906431e-03\n",
      "  6.19020278e-05  2.18958628e-03 -2.92298608e-03  1.72472279e-03\n",
      "  3.84155404e-04 -1.76084996e-03  1.83286543e-03 -8.03010243e-04\n",
      " -3.01933260e-04  7.48704961e-04 -5.95944750e-04  1.65552597e-04]\n",
      "2\n"
     ]
    }
   ],
   "source": [
    "# Ax = e\n",
    "\n",
    "x_k = np.zeros_like(e) # początkowy wektor rozwiązań\n",
    "r_k = e - A@x # wektor 128x1\n",
    "p_k = r_k  # wektor 128x1\n",
    "epsilon = 0.01\n",
    "norm_gradient = np.sqrt(r_k.T@r_k)\n",
    "norm_list_gradient = list()\n",
    "j=0\n",
    "\n",
    "#zdefiniuj r_k\n",
    "while norm_gradient > epsilon:\n",
    "    Apk = A@p_k\n",
    "    \n",
    "    alfa_k = (r_k.T@r_k)/(p_k.T@Apk)                # liczba\n",
    "    r_k1 = r_k - alfa_k*Apk                         # wektor\n",
    "    beta_k = (r_k1.T@r_k1)/(r_k.T@r_k)              # liczba\n",
    "    p_k1 = r_k1 + beta_k*p_k                        # wektor \n",
    "    x_k1 = x_k + alfa_k*p_k                         # wektor\n",
    "    \n",
    "    \n",
    "    norm_gradient = np.sqrt(r_k.T@r_k)\n",
    "    norm_list_gradient.append(norm_gradient)\n",
    "    r_k = r_k1\n",
    "    p_k = p_k1\n",
    "    j+=1\n",
    "    \n",
    "    \n",
    "    \n",
    "print(norm_list_gradient)\n",
    "print(x_k1)\n",
    "print(j)\n",
    "    \n",
    "    \n",
    "    "
   ]
  },
  {
   "cell_type": "code",
   "execution_count": 50,
   "metadata": {},
   "outputs": [
    {
     "data": {
      "text/plain": [
       "array([ 1.90593570e-03,  1.57120231e-03,  7.67255614e-04,  2.15535377e-03,\n",
       "        7.50540133e-04,  1.36018688e-03,  1.94510443e-03,  5.89779522e-04,\n",
       "        1.97425167e-03,  1.24671300e-03,  1.02500062e-03,  1.93986876e-03,\n",
       "        8.88084411e-04,  1.55347067e-03,  1.52056777e-03,  1.03214089e-03,\n",
       "        1.70315943e-03,  1.20089682e-03,  1.33950851e-03,  1.54357199e-03,\n",
       "        1.17321779e-03,  1.49955011e-03,  1.35484763e-03,  1.29912124e-03,\n",
       "        1.47711692e-03,  1.29008654e-03,  1.39942940e-03,  1.39533935e-03,\n",
       "        1.32201711e-03,  1.41781426e-03,  1.34883800e-03,  1.36810158e-03,\n",
       "        1.39238954e-03,  1.34839304e-03,  1.38660747e-03,  1.36934227e-03,\n",
       "        1.36447705e-03,  1.38243853e-03,  1.36341923e-03,  1.37477356e-03,\n",
       "        1.37364647e-03,  1.36732970e-03,  1.37590877e-03,  1.36957219e-03,\n",
       "        1.37161743e-03,  1.37334941e-03,  1.36984898e-03,  1.37299624e-03,\n",
       "        1.37146189e-03,  1.37125399e-03,  1.37252494e-03,  1.37110696e-03,\n",
       "        1.37200257e-03,  1.37184152e-03,  1.37145020e-03,  1.37203264e-03,\n",
       "        1.37157916e-03,  1.37175093e-03,  1.37183736e-03,  1.37162078e-03,\n",
       "        1.37182753e-03,  1.37171709e-03,  1.37171726e-03,  1.37178831e-03,\n",
       "        1.37170226e-03,  1.37176057e-03,  1.37174539e-03,  1.37172633e-03,\n",
       "        1.37175904e-03,  1.37173180e-03,  1.37174373e-03,  1.37174673e-03,\n",
       "        1.37173553e-03,  1.37174709e-03,  1.37174031e-03,  1.37174112e-03,\n",
       "        1.37174444e-03,  1.37173995e-03,  1.37174324e-03,  1.37174213e-03,\n",
       "        1.37174138e-03,  1.37174297e-03,  1.37174154e-03,  1.37174225e-03,\n",
       "        1.37174230e-03,  1.37174180e-03,  1.37174237e-03,  1.37174200e-03,\n",
       "        1.37174208e-03,  1.37174222e-03,  1.37174201e-03,  1.37174217e-03,\n",
       "        1.37174211e-03,  1.37174208e-03,  1.37174215e-03,  1.37174208e-03,\n",
       "        1.37174212e-03,  1.37174212e-03,  1.37174210e-03,  1.37174212e-03,\n",
       "        1.37174211e-03,  1.37174211e-03,  1.37174212e-03,  1.37174211e-03,\n",
       "        1.20898170e-03,  1.41243222e-03,  1.25984432e-03,  3.72291431e-04,\n",
       "        1.74664208e-03,  5.81622942e-04, -1.11084432e-03,  2.68659740e-03,\n",
       "       -1.09198966e-03, -1.63820518e-03,  3.56835466e-03, -3.07879547e-03,\n",
       "       -5.45619491e-05,  2.82694198e-03, -3.65731217e-03,  1.95877966e-03,\n",
       "        6.44640205e-04, -2.18329132e-03,  2.12383951e-03, -8.11423466e-04,\n",
       "       -5.05135280e-04,  7.88677968e-04, -5.30959877e-04,  2.22044605e-16])"
      ]
     },
     "execution_count": 50,
     "metadata": {},
     "output_type": "execute_result"
    }
   ],
   "source": [
    "r_k = e - A@x\n",
    "r_k"
   ]
  },
  {
   "cell_type": "markdown",
   "metadata": {},
   "source": [
    "### ZADANIE 7"
   ]
  },
  {
   "cell_type": "code",
   "execution_count": 38,
   "metadata": {},
   "outputs": [
    {
     "data": {
      "image/png": "[encoded data removed]",
      "text/plain": [
       "<Figure size 432x288 with 1 Axes>"
      ]
     },
     "metadata": {
      "needs_background": "light"
     },
     "output_type": "display_data"
    }
   ],
   "source": [
    "# ZADANIE 7.\n",
    "\n",
    "import numpy as np\n",
    "import matplotlib.pyplot as plt\n",
    "\n",
    "wektor_x = np.array([0.062500, 0.187500, 0.312500, 0.437500, 0.562500, 0.687500, 0.812500, 0.937500])\n",
    "wektor_y = np.array([0.687959, 0.073443, -0.517558, -1.077264, -1.600455, -2.080815, -2.507266, -2.860307])\n",
    "\n",
    "# mamy n=8 punktów - wielomian będzie stopnia n-1\n",
    "# Do obliczenia wartości współczynników wielomianu interpolacyjnego użyje\n",
    "# macierzy Vandermonde'a. Żadne z punktów x1, x2,.... się nie pokrywają więc wyznacznik\n",
    "# tej macierzy będzie różny od 0\n",
    "\n",
    "plt.scatter(wektor_x, wektor_y, alpha=0.4, c='red', s=10)\n",
    "plt.show()\n",
    "\n",
    "\n",
    "\n",
    "\n",
    "\n",
    "\n"
   ]
  },
  {
   "cell_type": "markdown",
   "metadata": {},
   "source": [
    "### ZADANIE 8"
   ]
  },
  {
   "cell_type": "code",
   "execution_count": 154,
   "metadata": {},
   "outputs": [
    {
     "data": {
      "image/png": "[encoded data removed]",
      "text/plain": [
       "<Figure size 432x288 with 1 Axes>"
      ]
     },
     "metadata": {
      "needs_background": "light"
     },
     "output_type": "display_data"
    }
   ],
   "source": [
    "# ZADANIE 8.\n",
    "import numpy as np\n",
    "import matplotlib.pyplot as plt\n",
    "\n",
    "\n",
    "vector_x = np.array([-1+(1/32)*i for i in range (65)])\n",
    "vector_y = np.array([1/(1+5*(i**2)) for i in vector_x])\n",
    "\n",
    "x_plot_values = np.linspace(-1,1,1000)\n",
    "y_plot_values = list()\n",
    "\n",
    "\n",
    "# Lagrange\n",
    "for x in x_plot_values:\n",
    "    sum_loop = 0\n",
    "    for i in range(len(vector_x)):   # petla sumy\n",
    "        L = 1\n",
    "        for j in range(len(vector_x)): # pętla iloczynu\n",
    "            if j != i:\n",
    "                L *= (x-vector_x[j]) / (vector_x[i]-vector_x[j])\n",
    "\n",
    "        sum_loop += vector_y[i]*L\n",
    "    y_plot_values.append(sum_loop)\n",
    "    \n",
    "\n",
    "# Wykres\n",
    "plt.plot(x_plot_values,y_plot_values)\n",
    "plt.xlim(-1.1,1,1)\n",
    "plt.ylim(-1.5,1.5)\n",
    "plt.scatter(vector_x,vector_y, alpha=0.4, c='red', s=10)\n",
    "plt.show()\n",
    "\n",
    "\n",
    "# Oscylacje Rungego pojawiają się ale dobiero jak się zsampluje dla ok 100 punków. Czemu ich nie widać dla mniejszej ilości sampli? A no dlatego że one są cienkie\n",
    "# i mniej sampli oznacza mniejszą rozdzielczość wykresu i po prostu nie są uwzględniane. Ale one się pojawiają nie dlatego że jest dużo sampli tylko mamy\n",
    "# aż 65 (!) punktów na którch robimy interpolacje\n"
   ]
  },
  {
   "cell_type": "markdown",
   "metadata": {},
   "source": [
    "### ZADANIE 9 \n",
    "naturalny splajn kubiczny"
   ]
  },
  {
   "cell_type": "code",
   "execution_count": null,
   "metadata": {},
   "outputs": [],
   "source": []
  },
  {
   "cell_type": "code",
   "execution_count": null,
   "metadata": {},
   "outputs": [],
   "source": [
    "# jakiś kod z neta nie wiem jeszcze co oznacza\n",
    "\n",
    "\n",
    "\n",
    "import numpy as np\n",
    "import matplotlib.pyplot as plt\n",
    "from scipy import interpolate\n",
    "\n",
    " \n",
    "\n",
    "timestamp = (0,5,10,15,30,35,40,50,55,60)\n",
    "distance = (100,90,65,85,70,30,40,45,20,0)\n",
    "\n",
    "\n",
    "plt.plot(timestamp, distance, 'o')\n",
    "plt.show()\n",
    "\n",
    " \n",
    "\n",
    "data = np.array((timestamp,distance))\n",
    "\n",
    " \n",
    "\n",
    "tck,u = interpolate.splprep(data, s=0)\n",
    "unew = np.arange(0, 1.01, 0.01)\n",
    "out = interpolate.splev(unew, tck)\n",
    "\n",
    "\n",
    "plt.plot(out[0], out[1], color='orange')\n",
    "plt.plot(data[0,:], data[1,:], 'ob')\n",
    "plt.show()\n"
   ]
  },
  {
   "cell_type": "code",
   "execution_count": null,
   "metadata": {},
   "outputs": [],
   "source": []
  },
  {
   "cell_type": "markdown",
   "metadata": {},
   "source": [
    "### ZADANIE 13"
   ]
  },
  {
   "cell_type": "code",
   "execution_count": null,
   "metadata": {},
   "outputs": [],
   "source": [
    "coeff_a = [243, -486, 783, -990, 558, -28, -72, 16]\n",
    "\n",
    "\n",
    "\n",
    "coeff_"
   ]
  },
  {
   "cell_type": "code",
   "execution_count": null,
   "metadata": {},
   "outputs": [],
   "source": []
  },
  {
   "cell_type": "markdown",
   "metadata": {},
   "source": []
  }
 ],
 "metadata": {
  "kernelspec": {
   "display_name": "Python 3",
   "language": "python",
   "name": "python3"
  },
  "language_info": {
   "codemirror_mode": {
    "name": "ipython",
    "version": 3
   },
   "file_extension": ".py",
   "mimetype": "text/x-python",
   "name": "python",
   "nbconvert_exporter": "python",
   "pygments_lexer": "ipython3",
   "version": "3.7.1"
  }
 },
 "nbformat": 4,
 "nbformat_minor": 2
}
